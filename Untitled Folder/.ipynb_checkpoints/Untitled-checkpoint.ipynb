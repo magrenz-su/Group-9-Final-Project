{
 "cells": [
  {
   "cell_type": "code",
   "execution_count": 2,
   "metadata": {},
   "outputs": [
    {
     "ename": "SyntaxError",
     "evalue": "invalid character in identifier (<ipython-input-2-e7169f3f1bba>, line 15)",
     "output_type": "error",
     "traceback": [
      "\u001b[0;36m  File \u001b[0;32m\"<ipython-input-2-e7169f3f1bba>\"\u001b[0;36m, line \u001b[0;32m15\u001b[0m\n\u001b[0;31m    \u001b[0m\n\u001b[0m    ^\u001b[0m\n\u001b[0;31mSyntaxError\u001b[0m\u001b[0;31m:\u001b[0m invalid character in identifier\n"
     ]
    }
   ],
   "source": [
    "import requests\n",
    "import json\n",
    "import pandas as pd\n",
    "import numpy as np\n",
    "import urllib3\n",
    "import sys\n",
    "\n",
    "\n",
    "urllib3.disable_warnings()\n",
    "\n",
    "\n",
    "\n",
    "search = input(\"Enter a Movie to Search for: \")\n",
    "search = search.lower()\n",
    "    \n",
    "    \n",
    "def get_movie(title):\n",
    "    response = requests.get(\"https://movie-database-imdb-alternative.p.rapidapi.com/\",\n",
    "      verify=False,              \n",
    "      params = {\n",
    "          'page': 1, \n",
    "          'r' : 'json',\n",
    "          's': search},                      \n",
    "      headers = {\n",
    "        \"X-RapidAPI-Host\": \"movie-database-imdb-alternative.p.rapidapi.com\",\n",
    "        \"X-RapidAPI-Key\": \"ea6a3999fdmsh8bc86985d157002p165a21jsnbf09af7920d7\"\n",
    "      }\n",
    "    )\n",
    "\n",
    "    return response.json()\n",
    "   \n",
    "results = get_movie(search)\n",
    "\n",
    "try:\n",
    "    df = pd.DataFrame (results[\"Search\"])\n",
    "    df.head(5)\n",
    "    print(df[['Title','Year']])\n",
    "except:\n",
    "    print(\"Sorry, this is not a valid movie title. Try again.\")\n",
    "    sys.exit(0)\n",
    "\n",
    "try:\n",
    "    choice = int(input(\"Enter the Number Beside the Movie You Want to Know More About: \"))\n",
    "    df[df.index == choice]\n",
    "except:\n",
    "    print(\"Sorry, that does not match one of our choices. Try again.\")\n",
    "    sys.exit(0)\n",
    "\n",
    "details = df['imdbID']\n",
    "def get_details(id):\n",
    "    response = requests.get(\"https://movie-database-imdb-alternative.p.rapidapi.com/\",\n",
    "      verify=False,              \n",
    "      params = { \n",
    "          'r' : 'json',\n",
    "          'i': id},                      \n",
    "      headers = {\n",
    "        \"X-RapidAPI-Host\": \"movie-database-imdb-alternative.p.rapidapi.com\",\n",
    "        \"X-RapidAPI-Key\": \"ea6a3999fdmsh8bc86985d157002p165a21jsnbf09af7920d7\"\n",
    "      }\n",
    "    )\n",
    "    \n",
    "    return response.json()\n",
    "\n",
    "\n",
    "results = get_details(details[0])\n",
    "results"
   ]
  },
  {
   "cell_type": "code",
   "execution_count": 3,
   "metadata": {},
   "outputs": [
    {
     "ename": "SyntaxError",
     "evalue": "invalid character in identifier (<ipython-input-3-b7142b992365>, line 11)",
     "output_type": "error",
     "traceback": [
      "\u001b[0;36m  File \u001b[0;32m\"<ipython-input-3-b7142b992365>\"\u001b[0;36m, line \u001b[0;32m11\u001b[0m\n\u001b[0;31m    f = io.BytesIO(url.read())\u001b[0m\n\u001b[0m    ^\u001b[0m\n\u001b[0;31mSyntaxError\u001b[0m\u001b[0;31m:\u001b[0m invalid character in identifier\n"
     ]
    }
   ],
   "source": [
    "from PIL import Image\n",
    "import urllib.request\n",
    "import io\n",
    "\n",
    "# URL = input (\"Copy and paste the link following poster: \")\n",
    "\n",
    "URL = results[\"Poster\"]\n",
    "print(URL)\n",
    "\n",
    "with urllib.request.urlopen(URL) as url:\n",
    "    f = io.BytesIO(url.read())\n",
    "\n",
    "img = Image.open(f)\n",
    "\n",
    "img.show()\n",
    "\n",
    "satisfied = input(\"Are you satisfied with what you found, Yes or No? \")\n",
    "satisfied = satisfied.lower()\n",
    "if satisfied == 'yes':\n",
    "    print(\"Good, we're glad we could help!\")\n",
    "elif satisfied == 'no':\n",
    "    print(\"We're sorry, maybe try another search\")\n",
    "else:\n",
    "    print(\"Not a valid answer, but thanks anyways\")"
   ]
  },
  {
   "cell_type": "code",
   "execution_count": null,
   "metadata": {},
   "outputs": [],
   "source": []
  }
 ],
 "metadata": {
  "kernelspec": {
   "display_name": "Python 3",
   "language": "python",
   "name": "python3"
  },
  "language_info": {
   "codemirror_mode": {
    "name": "ipython",
    "version": 3
   },
   "file_extension": ".py",
   "mimetype": "text/x-python",
   "name": "python",
   "nbconvert_exporter": "python",
   "pygments_lexer": "ipython3",
   "version": "3.6.6"
  }
 },
 "nbformat": 4,
 "nbformat_minor": 2
}

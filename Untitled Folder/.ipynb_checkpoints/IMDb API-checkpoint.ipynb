{
 "cells": [
  {
   "cell_type": "code",
   "execution_count": null,
   "metadata": {},
   "outputs": [],
   "source": []
  },
  {
   "cell_type": "code",
   "execution_count": null,
   "metadata": {},
   "outputs": [],
   "source": []
  },
  {
   "cell_type": "code",
   "execution_count": 2,
   "metadata": {},
   "outputs": [],
   "source": [
    "import requests\n",
    "import json"
   ]
  },
  {
   "cell_type": "code",
   "execution_count": 3,
   "metadata": {
    "scrolled": false
   },
   "outputs": [
    {
     "ename": "SyntaxError",
     "evalue": "invalid syntax (<ipython-input-3-a2b2405ea459>, line 4)",
     "output_type": "error",
     "traceback": [
      "\u001b[0;36m  File \u001b[0;32m\"<ipython-input-3-a2b2405ea459>\"\u001b[0;36m, line \u001b[0;32m4\u001b[0m\n\u001b[0;31m    params =\u001b[0m\n\u001b[0m             ^\u001b[0m\n\u001b[0;31mSyntaxError\u001b[0m\u001b[0;31m:\u001b[0m invalid syntax\n"
     ]
    }
   ],
   "source": [
    "user_input = input('Enter a movie to search for:' )\n",
    "url = 'https://movie-database-imdb-alternative.p.rapidapi.com/'\n",
    "api_key = 'ea6a3999fdmsh8bc86985d157002p165a21jsnbf09af7920d7'\n",
    "params = \n",
    "response = requests.get(url)"
   ]
  },
  {
   "cell_type": "code",
   "execution_count": null,
   "metadata": {},
   "outputs": [],
   "source": [
    "options = {\n",
    "      'page': 1, \n",
    "      'r' : 'json',\n",
    "      's': search}"
   ]
  },
  {
   "cell_type": "code",
   "execution_count": null,
   "metadata": {
    "scrolled": false
   },
   "outputs": [],
   "source": [
    "search = input(\"Enter a movie to search for: \")\n",
    "search = search.lower()\n",
    "def get_movie(title):\n",
    "    response = requests.get(\"https://movie-database-imdb-alternative.p.rapidapi.com/\",\n",
    "      verify=False,              \n",
    "      params = {\n",
    "          'page': 1, \n",
    "          'r' : 'json',\n",
    "          's': title},                      \n",
    "      headers = {\n",
    "        \"X-RapidAPI-Host\": \"movie-database-imdb-alternative.p.rapidapi.com\",\n",
    "        \"X-RapidAPI-Key\": \"ea6a3999fdmsh8bc86985d157002p165a21jsnbf09af7920d7\"\n",
    "      }\n",
    "    )\n",
    "\n",
    "    return response.json()\n",
    "\n",
    "get_movie(search)\n"
   ]
  },
  {
   "cell_type": "code",
   "execution_count": null,
   "metadata": {},
   "outputs": [],
   "source": []
  },
  {
   "cell_type": "code",
   "execution_count": null,
   "metadata": {},
   "outputs": [],
   "source": [
    "page=1&r=json&s=Avengers+Endgame"
   ]
  }
 ],
 "metadata": {
  "kernelspec": {
   "display_name": "Python 3",
   "language": "python",
   "name": "python3"
  },
  "language_info": {
   "codemirror_mode": {
    "name": "ipython",
    "version": 3
   },
   "file_extension": ".py",
   "mimetype": "text/x-python",
   "name": "python",
   "nbconvert_exporter": "python",
   "pygments_lexer": "ipython3",
   "version": "3.6.6"
  }
 },
 "nbformat": 4,
 "nbformat_minor": 2
}

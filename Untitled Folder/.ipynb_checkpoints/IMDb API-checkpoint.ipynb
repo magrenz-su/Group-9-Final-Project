{
 "cells": [
  {
   "cell_type": "code",
   "execution_count": 5,
   "metadata": {
    "scrolled": false
   },
   "outputs": [
    {
     "name": "stdout",
     "output_type": "stream",
     "text": [
      "Enter a Movie to Search for: die hard\n",
      "                        Title  Year\n",
      "0                    Die Hard  1988\n",
      "1       Live Free or Die Hard  2007\n",
      "2  Die Hard: With a Vengeance  1995\n",
      "3                  Die Hard 2  1990\n",
      "4      A Good Day to Die Hard  2013\n",
      "5         Don't Die Too Hard!  2001\n",
      "6            Die Hard Dracula  1998\n",
      "7                 Hard to Die  1990\n",
      "8        Party Hard Die Young  2018\n",
      "9                    Die Hard  1997\n",
      "Enter the Number Beside the Movie You Want to Know More About: 9\n"
     ]
    },
    {
     "data": {
      "text/plain": [
       "{'Title': 'Die Hard',\n",
       " 'Year': '1988',\n",
       " 'Rated': 'R',\n",
       " 'Released': '20 Jul 1988',\n",
       " 'Runtime': '132 min',\n",
       " 'Genre': 'Action, Thriller',\n",
       " 'Director': 'John McTiernan',\n",
       " 'Writer': 'Roderick Thorp (novel), Jeb Stuart (screenplay), Steven E. de Souza (screenplay)',\n",
       " 'Actors': 'Bruce Willis, Bonnie Bedelia, Reginald VelJohnson, Paul Gleason',\n",
       " 'Plot': 'An NYPD officer tries to save his wife and several others taken hostage by German terrorists during a Christmas party at the Nakatomi Plaza in Los Angeles.',\n",
       " 'Language': 'English, German, Italian, Japanese',\n",
       " 'Country': 'USA',\n",
       " 'Awards': 'Nominated for 4 Oscars. Another 7 wins & 2 nominations.',\n",
       " 'Poster': 'https://m.media-amazon.com/images/M/MV5BZjRlNDUxZjAtOGQ4OC00OTNlLTgxNmQtYTBmMDgwZmNmNjkxXkEyXkFqcGdeQXVyNzkwMjQ5NzM@._V1_SX300.jpg',\n",
       " 'Ratings': [{'Source': 'Internet Movie Database', 'Value': '8.2/10'},\n",
       "  {'Source': 'Rotten Tomatoes', 'Value': '93%'},\n",
       "  {'Source': 'Metacritic', 'Value': '72/100'}],\n",
       " 'Metascore': '72',\n",
       " 'imdbRating': '8.2',\n",
       " 'imdbVotes': '715,063',\n",
       " 'imdbID': 'tt0095016',\n",
       " 'Type': 'movie',\n",
       " 'DVD': '09 Mar 1999',\n",
       " 'BoxOffice': 'N/A',\n",
       " 'Production': '20th Century Fox',\n",
       " 'Website': 'https://www.foxmovies.com/movies/die-hard',\n",
       " 'Response': 'True'}"
      ]
     },
     "execution_count": 5,
     "metadata": {},
     "output_type": "execute_result"
    }
   ],
   "source": [
    "import requests\n",
    "import json\n",
    "import pandas as pd\n",
    "import numpy as np\n",
    "import urllib3\n",
    "import sys\n",
    "\n",
    "urllib3.disable_warnings()\n",
    "\n",
    "search = input(\"Enter a Movie to Search for: \")\n",
    "search = search.lower()\n",
    "\n",
    "def get_movie(title):\n",
    "#try:\n",
    "    response = requests.get(\"https://movie-database-imdb-alternative.p.rapidapi.com/\",\n",
    "        verify=False,              \n",
    "        params = {\n",
    "            'page': 1, \n",
    "            'r' : 'json',\n",
    "            's': search},                      \n",
    "        headers = {\n",
    "        \"X-RapidAPI-Host\": \"movie-database-imdb-alternative.p.rapidapi.com\",\n",
    "        \"X-RapidAPI-Key\": \"ea6a3999fdmsh8bc86985d157002p165a21jsnbf09af7920d7\"\n",
    "        }\n",
    "    )\n",
    "\n",
    "    return response.json()\n",
    "\n",
    "#except KeyError:\n",
    "    #print(\"Sorry, this is not a valid movie search. Try again.\")\n",
    "    \n",
    "results = get_movie(search)\n",
    "\n",
    "try:\n",
    "    df = pd.DataFrame (results[\"Search\"])\n",
    "    df.head(5)\n",
    "    print(df[['Title','Year']])\n",
    "except:\n",
    "    print(\"Sorry, this is not a valid movie title. Try again.\")\n",
    "    sys.exit(0)\n",
    "    \n",
    "try:    \n",
    "    choice = input(\"Enter the Number Beside the Movie You Want to Know More About: \")\n",
    "    choice = int(choice)\n",
    "    df[df.index == choice]\n",
    "except:\n",
    "    print(\"Sorry, that does not match one of our choices. Try again.\")\n",
    "    sys.exit(0)\n",
    "\n",
    "    \n",
    "details = df['imdbID']\n",
    "def get_details(id):\n",
    "    response = requests.get(\"https://movie-database-imdb-alternative.p.rapidapi.com/\",\n",
    "      verify=False,              \n",
    "      params = { \n",
    "          'r' : 'json',\n",
    "          'i': id},                      \n",
    "      headers = {\n",
    "        \"X-RapidAPI-Host\": \"movie-database-imdb-alternative.p.rapidapi.com\",\n",
    "        \"X-RapidAPI-Key\": \"ea6a3999fdmsh8bc86985d157002p165a21jsnbf09af7920d7\"\n",
    "      }\n",
    "    )\n",
    "    \n",
    "    return response.json()\n",
    "\n",
    "get_details(details[0])"
   ]
  },
  {
   "cell_type": "code",
   "execution_count": 5,
   "metadata": {},
   "outputs": [
    {
     "ename": "SyntaxError",
     "evalue": "invalid character in identifier (<ipython-input-5-3a98e1848dad>, line 2)",
     "output_type": "error",
     "traceback": [
      "\u001b[0;36m  File \u001b[0;32m\"<ipython-input-5-3a98e1848dad>\"\u001b[0;36m, line \u001b[0;32m2\u001b[0m\n\u001b[0;31m    url = choice.get(\"Poster\")\u001b[0m\n\u001b[0m      ^\u001b[0m\n\u001b[0;31mSyntaxError\u001b[0m\u001b[0;31m:\u001b[0m invalid character in identifier\n"
     ]
    }
   ],
   "source": [
    "def display_poster (url):\n",
    "    url = choice.get(\"Poster\")\n",
    "\n",
    "from PIL import Image\n",
    "import urllib.request\n",
    "import io\n",
    "\n",
    "URL = input (\"Copy and paste the link following poster: \")\n",
    "\n",
    "with urllib.request.urlopen(URL) as url:\n",
    "    f = io.BytesIO(url.read())\n",
    "\n",
    "img = Image.open(f)\n",
    "\n",
    "img.show()\n",
    "\n",
    "satisfied = input(\"Are you satisfied with what you found, Yes or No? \")\n",
    "satisfied = satisfied.lower()\n",
    "if satisfied == 'yes':\n",
    "    print(\"Good, we're glad we could help!\")\n",
    "elif satisfied == 'no':\n",
    "    print(\"We're sorry, maybe try another search\")\n",
    "else:\n",
    "    print(\"Not a valid answer, but thanks anyways\")"
   ]
  },
  {
   "cell_type": "code",
   "execution_count": null,
   "metadata": {},
   "outputs": [],
   "source": []
  }
 ],
 "metadata": {
  "kernelspec": {
   "display_name": "Python 3",
   "language": "python",
   "name": "python3"
  },
  "language_info": {
   "codemirror_mode": {
    "name": "ipython",
    "version": 3
   },
   "file_extension": ".py",
   "mimetype": "text/x-python",
   "name": "python",
   "nbconvert_exporter": "python",
   "pygments_lexer": "ipython3",
   "version": "3.6.6"
  }
 },
 "nbformat": 4,
 "nbformat_minor": 2
}

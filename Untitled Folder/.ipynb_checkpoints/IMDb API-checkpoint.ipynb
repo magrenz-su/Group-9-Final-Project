{
 "cells": [
  {
   "cell_type": "code",
   "execution_count": null,
   "metadata": {
    "scrolled": false
   },
   "outputs": [],
   "source": [
    "import requests\n",
    "import json\n",
    "import pandas as pd\n",
    "import numpy as np\n",
    "import urllib3\n",
    "\n",
    "urllib3.disable_warnings()\n",
    "\n",
    "search = input(\"Enter a Movie to Search for: \")\n",
    "search = search.lower()\n",
    "\n",
    "def get_movie(title):\n",
    "#try:\n",
    "    response = requests.get(\"https://movie-database-imdb-alternative.p.rapidapi.com/\",\n",
    "      verify=False,              \n",
    "      params = {\n",
    "          'page': 1, \n",
    "          'r' : 'json',\n",
    "          's': search},                      \n",
    "      headers = {\n",
    "        \"X-RapidAPI-Host\": \"movie-database-imdb-alternative.p.rapidapi.com\",\n",
    "        \"X-RapidAPI-Key\": \"ea6a3999fdmsh8bc86985d157002p165a21jsnbf09af7920d7\"\n",
    "      }\n",
    "    )\n",
    "\n",
    "    return response.json()\n",
    "\n",
    "#except ValueError:\n",
    "    #print(\"Sorry, this is not a valid movie search. Try again.\")\n",
    "    \n",
    "results = get_movie(search)\n",
    "\n",
    "\n",
    "df = pd.DataFrame (results[\"Search\"])\n",
    "df.head(5)\n",
    "\n",
    "print(df[['Title','Year']])\n",
    "\n",
    "choice = input(\"Enter the Number Beside the Movie You Want to Know More About: \")\n",
    "choice = int(choice)\n",
    "df[df.index == choice]\n",
    "\n",
    "details = df['imdbID']\n",
    "def get_details(id):\n",
    "    response = requests.get(\"https://movie-database-imdb-alternative.p.rapidapi.com/\",\n",
    "      verify=False,              \n",
    "      params = { \n",
    "          'r' : 'json',\n",
    "          'i': id},                      \n",
    "      headers = {\n",
    "        \"X-RapidAPI-Host\": \"movie-database-imdb-alternative.p.rapidapi.com\",\n",
    "        \"X-RapidAPI-Key\": \"ea6a3999fdmsh8bc86985d157002p165a21jsnbf09af7920d7\"\n",
    "      }\n",
    "    )\n",
    "    \n",
    "    return response.json()\n",
    "\n",
    "get_details(details[0])"
   ]
  },
  {
   "cell_type": "code",
   "execution_count": 7,
   "metadata": {
    "scrolled": true
   },
   "outputs": [
    {
     "name": "stdout",
     "output_type": "stream",
     "text": [
      "Are you satisfied with what you found, Yes or No? ncskcbdks\n",
      "Not a valid answer, but thanks anyways\n"
     ]
    }
   ],
   "source": [
    "satisfied = input(\"Are you satisfied with what you found, Yes or No? \")\n",
    "satisfied = satisfied.lower()\n",
    "if satisfied == 'yes':\n",
    "    print(\"Good, we're glad we could help!\")\n",
    "elif satisfied == 'no':\n",
    "    print(\"We're sorry, maybe try another search\")\n",
    "else:\n",
    "    print(\"Not a valid answer, but thanks anyways\")"
   ]
  },
  {
   "cell_type": "code",
   "execution_count": null,
   "metadata": {},
   "outputs": [],
   "source": []
  },
  {
   "cell_type": "code",
   "execution_count": null,
   "metadata": {},
   "outputs": [],
   "source": []
  }
 ],
 "metadata": {
  "kernelspec": {
   "display_name": "Python 3",
   "language": "python",
   "name": "python3"
  },
  "language_info": {
   "codemirror_mode": {
    "name": "ipython",
    "version": 3
   },
   "file_extension": ".py",
   "mimetype": "text/x-python",
   "name": "python",
   "nbconvert_exporter": "python",
   "pygments_lexer": "ipython3",
   "version": "3.6.6"
  }
 },
 "nbformat": 4,
 "nbformat_minor": 2
}

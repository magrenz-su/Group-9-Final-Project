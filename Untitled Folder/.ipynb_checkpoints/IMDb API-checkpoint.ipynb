{
 "cells": [
  {
   "cell_type": "code",
   "execution_count": 13,
   "metadata": {
    "scrolled": false
   },
   "outputs": [
    {
     "name": "stdout",
     "output_type": "stream",
     "text": [
      "Enter a Movie to Search for: the notebook\n",
      "                                               Title  Year\n",
      "0                                       The Notebook  2004\n",
      "1                                       The Notebook  2013\n",
      "2                            From the Notebook of...  2000\n",
      "3  The Director's Notebook: The Cinematic Sleight...  2007\n",
      "4                                   The Red Notebook  2004\n",
      "5                                The Purple Notebook  1964\n",
      "6                                       The Notebook  2012\n",
      "7  Captain America: The Winter Soldier, Steve Rog...  2014\n",
      "8                                       The Notebook  2011\n",
      "9                                 The Green Notebook  1949\n",
      "Enter the Number Beside the Movie You Want to Know More About: 2\n"
     ]
    },
    {
     "data": {
      "text/plain": [
       "{'Title': 'The Notebook',\n",
       " 'Year': '2004',\n",
       " 'Rated': 'PG-13',\n",
       " 'Released': '25 Jun 2004',\n",
       " 'Runtime': '123 min',\n",
       " 'Genre': 'Drama, Romance',\n",
       " 'Director': 'Nick Cassavetes',\n",
       " 'Writer': 'Jeremy Leven (screenplay), Jan Sardi (adaptation), Nicholas Sparks (novel)',\n",
       " 'Actors': 'Tim Ivey, Gena Rowlands, Starletta DuPois, James Garner',\n",
       " 'Plot': 'A poor yet passionate young man falls in love with a rich young woman, giving her a sense of freedom, but they are soon separated because of their social differences.',\n",
       " 'Language': 'English',\n",
       " 'Country': 'USA',\n",
       " 'Awards': '12 wins & 10 nominations.',\n",
       " 'Poster': 'https://m.media-amazon.com/images/M/MV5BMTk3OTM5Njg5M15BMl5BanBnXkFtZTYwMzA0ODI3._V1_SX300.jpg',\n",
       " 'Ratings': [{'Source': 'Internet Movie Database', 'Value': '7.9/10'},\n",
       "  {'Source': 'Rotten Tomatoes', 'Value': '53%'},\n",
       "  {'Source': 'Metacritic', 'Value': '53/100'}],\n",
       " 'Metascore': '53',\n",
       " 'imdbRating': '7.9',\n",
       " 'imdbVotes': '471,352',\n",
       " 'imdbID': 'tt0332280',\n",
       " 'Type': 'movie',\n",
       " 'DVD': '08 Feb 2005',\n",
       " 'BoxOffice': '$81,000,000',\n",
       " 'Production': 'New Line Cinema',\n",
       " 'Website': 'http://www.thenotebookmovie.com/',\n",
       " 'Response': 'True'}"
      ]
     },
     "execution_count": 13,
     "metadata": {},
     "output_type": "execute_result"
    }
   ],
   "source": [
    "import requests\n",
    "import json\n",
    "import pandas as pd\n",
    "import numpy as np\n",
    "import urllib3\n",
    "\n",
    "urllib3.disable_warnings()\n",
    "\n",
    "search = input(\"Enter a Movie to Search for: \")\n",
    "search = search.lower()\n",
    "\n",
    "def get_movie(title):\n",
    "#try:\n",
    "    response = requests.get(\"https://movie-database-imdb-alternative.p.rapidapi.com/\",\n",
    "        verify=False,              \n",
    "        params = {\n",
    "            'page': 1, \n",
    "            'r' : 'json',\n",
    "            's': search},                      \n",
    "        headers = {\n",
    "        \"X-RapidAPI-Host\": \"movie-database-imdb-alternative.p.rapidapi.com\",\n",
    "        \"X-RapidAPI-Key\": \"ea6a3999fdmsh8bc86985d157002p165a21jsnbf09af7920d7\"\n",
    "        }\n",
    "    )\n",
    "\n",
    "    return response.json()\n",
    "\n",
    "#except KeyError:\n",
    "    #print(\"Sorry, this is not a valid movie search. Try again.\")\n",
    "    \n",
    "results = get_movie(search)\n",
    "\n",
    "\n",
    "df = pd.DataFrame (results[\"Search\"])\n",
    "df.head(5)\n",
    "\n",
    "print(df[['Title','Year']])\n",
    "\n",
    "choice = input(\"Enter the Number Beside the Movie You Want to Know More About: \")\n",
    "choice = int(choice)\n",
    "df[df.index == choice]\n",
    "\n",
    "details = df['imdbID']\n",
    "def get_details(id):\n",
    "    response = requests.get(\"https://movie-database-imdb-alternative.p.rapidapi.com/\",\n",
    "      verify=False,              \n",
    "      params = { \n",
    "          'r' : 'json',\n",
    "          'i': id},                      \n",
    "      headers = {\n",
    "        \"X-RapidAPI-Host\": \"movie-database-imdb-alternative.p.rapidapi.com\",\n",
    "        \"X-RapidAPI-Key\": \"ea6a3999fdmsh8bc86985d157002p165a21jsnbf09af7920d7\"\n",
    "      }\n",
    "    )\n",
    "    \n",
    "    return response.json()\n",
    "\n",
    "get_details(details[0])"
   ]
  },
  {
   "cell_type": "code",
   "execution_count": 17,
   "metadata": {},
   "outputs": [
    {
     "ename": "SyntaxError",
     "evalue": "invalid character in identifier (<ipython-input-17-639b6d09c3f3>, line 2)",
     "output_type": "error",
     "traceback": [
      "\u001b[0;36m  File \u001b[0;32m\"<ipython-input-17-639b6d09c3f3>\"\u001b[0;36m, line \u001b[0;32m2\u001b[0m\n\u001b[0;31m    url = choice.get(\"Poster\")\u001b[0m\n\u001b[0m      ^\u001b[0m\n\u001b[0;31mSyntaxError\u001b[0m\u001b[0;31m:\u001b[0m invalid character in identifier\n"
     ]
    }
   ],
   "source": [
    "def display_poster (url):\n",
    "    url = choice.get(\"Poster\")\n",
    "\n",
    "from PIL import Image\n",
    "import urllib.request\n",
    "import io\n",
    "\n",
    "URL = input (\"Copy and paste the link following poster: \")\n",
    "\n",
    "with urllib.request.urlopen(URL) as url:\n",
    "    f = io.BytesIO(url.read())\n",
    "\n",
    "img = Image.open(f)\n",
    "\n",
    "img.show()\n",
    "\n",
    "satisfied = input(\"Are you satisfied with what you found, Yes or No? \")\n",
    "satisfied = satisfied.lower()\n",
    "if satisfied == 'yes':\n",
    "    print(\"Good, we're glad we could help!\")\n",
    "elif satisfied == 'no':\n",
    "    print(\"We're sorry, maybe try another search\")\n",
    "else:\n",
    "    print(\"Not a valid answer, but thanks anyways\")"
   ]
  }
 ],
 "metadata": {
  "kernelspec": {
   "display_name": "Python 3",
   "language": "python",
   "name": "python3"
  },
  "language_info": {
   "codemirror_mode": {
    "name": "ipython",
    "version": 3
   },
   "file_extension": ".py",
   "mimetype": "text/x-python",
   "name": "python",
   "nbconvert_exporter": "python",
   "pygments_lexer": "ipython3",
   "version": "3.6.6"
  }
 },
 "nbformat": 4,
 "nbformat_minor": 2
}

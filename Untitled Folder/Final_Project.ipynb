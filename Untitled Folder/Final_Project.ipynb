{
 "cells": [
  {
   "cell_type": "code",
   "execution_count": 1,
   "metadata": {},
   "outputs": [
    {
     "name": "stdout",
     "output_type": "stream",
     "text": [
      "Enter a Movie to Search for: happy feet\n",
      "                                   Title  Year\n",
      "0                             Happy Feet  2006\n",
      "1                         Happy Feet Two  2011\n",
      "2                             Happy Feet  2006\n",
      "3  Happy Feet: European Premiere Special  2006\n",
      "4                         Happy Feet Two  2011\n",
      "5       Happy Feet Two: Erik's Adventure  2011\n",
      "6              Savion Glover: Happy Feet  2014\n",
      "7               Happy Feet Shower Sheets  2013\n",
      "Enter the Number Beside the Movie You Want to Know More About: 0\n"
     ]
    },
    {
     "data": {
      "text/plain": [
       "{'Title': 'Happy Feet',\n",
       " 'Year': '2006',\n",
       " 'Rated': 'PG',\n",
       " 'Released': '17 Nov 2006',\n",
       " 'Runtime': '108 min',\n",
       " 'Genre': 'Animation, Adventure, Comedy, Family, Music, Musical, Romance',\n",
       " 'Director': 'George Miller, Warren Coleman(co-director), Judy Morris(co-director)',\n",
       " 'Writer': 'George Miller, John Collee, Judy Morris, Warren Coleman',\n",
       " 'Actors': 'Carlos Alazraqui, Lombardo Boyar, Jeffrey Garcia, Johnny A. Sanchez',\n",
       " 'Plot': 'Into the world of the Emperor Penguins, who find their soul mates through song, a penguin is born who cannot sing. But he can tap dance something fierce!',\n",
       " 'Language': 'English',\n",
       " 'Country': 'USA, Australia',\n",
       " 'Awards': 'Won 1 Oscar. Another 18 wins & 23 nominations.',\n",
       " 'Poster': 'https://m.media-amazon.com/images/M/MV5BMTQyNTkxMjUwMV5BMl5BanBnXkFtZTcwMDQ2NTU0MQ@@._V1_SX300.jpg',\n",
       " 'Ratings': [{'Source': 'Internet Movie Database', 'Value': '6.5/10'},\n",
       "  {'Source': 'Rotten Tomatoes', 'Value': '76%'},\n",
       "  {'Source': 'Metacritic', 'Value': '77/100'}],\n",
       " 'Metascore': '77',\n",
       " 'imdbRating': '6.5',\n",
       " 'imdbVotes': '156,415',\n",
       " 'imdbID': 'tt0366548',\n",
       " 'Type': 'movie',\n",
       " 'DVD': '27 Mar 2007',\n",
       " 'BoxOffice': '$197,800,000',\n",
       " 'Production': 'Warner Bros. Pictures',\n",
       " 'Website': 'http://www.happyfeetmovie.com/',\n",
       " 'Response': 'True'}"
      ]
     },
     "execution_count": 1,
     "metadata": {},
     "output_type": "execute_result"
    }
   ],
   "source": [
    "import requests\n",
    "import json\n",
    "import pandas as pd\n",
    "import numpy as np\n",
    "import urllib3\n",
    "import sys\n",
    "\n",
    "urllib3.disable_warnings()\n",
    "\n",
    "search = input(\"Enter a Movie to Search for: \")\n",
    "search = search.lower()\n",
    "\n",
    "def get_movie(title):\n",
    "    response = requests.get(\"https://movie-database-imdb-alternative.p.rapidapi.com/\",\n",
    "        verify=False,              \n",
    "        params = {\n",
    "            'page': 1, \n",
    "            'r' : 'json',\n",
    "            's': search},                      \n",
    "        headers = {\n",
    "        \"X-RapidAPI-Host\": \"movie-database-imdb-alternative.p.rapidapi.com\",\n",
    "        \"X-RapidAPI-Key\": \"ea6a3999fdmsh8bc86985d157002p165a21jsnbf09af7920d7\"\n",
    "        }\n",
    "    )\n",
    "\n",
    "    return response.json()\n",
    "    \n",
    "results = get_movie(search)\n",
    "\n",
    "try:\n",
    "    df = pd.DataFrame (results[\"Search\"])\n",
    "    df.head(5)\n",
    "    print(df[['Title','Year']])\n",
    "except:\n",
    "    print(\"Sorry, this is not a valid movie title. Try again.\")\n",
    "    sys.exit(0)\n",
    "    \n",
    "try:    \n",
    "    choice = input(\"Enter the Number Beside the Movie You Want to Know More About: \")\n",
    "    choice = int(choice)\n",
    "    df[df.index == choice]\n",
    "except:\n",
    "    print(\"Sorry, that does not match one of our choices. Try again.\")\n",
    "    sys.exit(0)\n",
    "\n",
    "    \n",
    "details = df['imdbID']\n",
    "def get_details(id):\n",
    "    response = requests.get(\"https://movie-database-imdb-alternative.p.rapidapi.com/\",\n",
    "      verify=False,              \n",
    "      params = { \n",
    "          'r' : 'json',\n",
    "          'i': id},                      \n",
    "      headers = {\n",
    "        \"X-RapidAPI-Host\": \"movie-database-imdb-alternative.p.rapidapi.com\",\n",
    "        \"X-RapidAPI-Key\": \"ea6a3999fdmsh8bc86985d157002p165a21jsnbf09af7920d7\"\n",
    "      }\n",
    "    )\n",
    "    \n",
    "    return response.json()\n",
    "\n",
    "results = get_details(details[0])\n",
    "results"
   ]
  },
  {
   "cell_type": "code",
   "execution_count": 2,
   "metadata": {},
   "outputs": [
    {
     "ename": "ModuleNotFoundError",
     "evalue": "No module named 'PIL'",
     "output_type": "error",
     "traceback": [
      "\u001b[0;31m---------------------------------------------------------------------------\u001b[0m",
      "\u001b[0;31mModuleNotFoundError\u001b[0m                       Traceback (most recent call last)",
      "\u001b[0;32m<ipython-input-2-6f23b5b0388c>\u001b[0m in \u001b[0;36m<module>\u001b[0;34m\u001b[0m\n\u001b[1;32m      3\u001b[0m     \u001b[0;32mreturn\u001b[0m \u001b[0murl\u001b[0m\u001b[0;34m\u001b[0m\u001b[0m\n\u001b[1;32m      4\u001b[0m \u001b[0;34m\u001b[0m\u001b[0m\n\u001b[0;32m----> 5\u001b[0;31m \u001b[0;32mfrom\u001b[0m \u001b[0mPIL\u001b[0m \u001b[0;32mimport\u001b[0m \u001b[0mImage\u001b[0m\u001b[0;34m\u001b[0m\u001b[0m\n\u001b[0m\u001b[1;32m      6\u001b[0m \u001b[0;32mimport\u001b[0m \u001b[0murllib\u001b[0m\u001b[0;34m.\u001b[0m\u001b[0mrequest\u001b[0m\u001b[0;34m\u001b[0m\u001b[0m\n\u001b[1;32m      7\u001b[0m \u001b[0;32mimport\u001b[0m \u001b[0mio\u001b[0m\u001b[0;34m\u001b[0m\u001b[0m\n",
      "\u001b[0;31mModuleNotFoundError\u001b[0m: No module named 'PIL'"
     ]
    }
   ],
   "source": [
    "def display_poster (result):\n",
    "    url = choice.get[\"Poster\"]\n",
    "    return url\n",
    "\n",
    "from PIL import Image\n",
    "import urllib.request\n",
    "import io\n",
    "\n",
    "URL = results['Poster']\n",
    "print(URL)\n",
    "\n",
    "with urllib.request.urlopen(URL) as url:\n",
    "    f = io.BytesIO(url.read())\n",
    "\n",
    "img = Image.open(f)\n",
    "\n",
    "img.show()\n",
    "\n",
    "satisfied = input(\"Are you satisfied with what you found, Yes or No? \")\n",
    "satisfied = satisfied.lower()\n",
    "if satisfied == 'yes':\n",
    "    print(\"Good, we're glad we could help!\")\n",
    "elif satisfied == 'no':\n",
    "    print(\"We're sorry, maybe try another search\")\n",
    "else:\n",
    "    print(\"Not a valid answer, but thanks anyways\")"
   ]
  },
  {
   "cell_type": "code",
   "execution_count": null,
   "metadata": {},
   "outputs": [],
   "source": []
  }
 ],
 "metadata": {
  "kernelspec": {
   "display_name": "Python 3",
   "language": "python",
   "name": "python3"
  },
  "language_info": {
   "codemirror_mode": {
    "name": "ipython",
    "version": 3
   },
   "file_extension": ".py",
   "mimetype": "text/x-python",
   "name": "python",
   "nbconvert_exporter": "python",
   "pygments_lexer": "ipython3",
   "version": "3.6.6"
  }
 },
 "nbformat": 4,
 "nbformat_minor": 2
}
